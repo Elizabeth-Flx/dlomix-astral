{
 "cells": [
  {
   "cell_type": "code",
   "execution_count": 1,
   "metadata": {},
   "outputs": [
    {
     "name": "stderr",
     "output_type": "stream",
     "text": [
      "2024-10-22 11:18:38.514181: I external/local_tsl/tsl/cuda/cudart_stub.cc:31] Could not find cuda drivers on your machine, GPU will not be used.\n",
      "2024-10-22 11:18:38.568234: E external/local_xla/xla/stream_executor/cuda/cuda_dnn.cc:9261] Unable to register cuDNN factory: Attempting to register factory for plugin cuDNN when one has already been registered\n",
      "2024-10-22 11:18:38.568285: E external/local_xla/xla/stream_executor/cuda/cuda_fft.cc:607] Unable to register cuFFT factory: Attempting to register factory for plugin cuFFT when one has already been registered\n",
      "2024-10-22 11:18:38.570076: E external/local_xla/xla/stream_executor/cuda/cuda_blas.cc:1515] Unable to register cuBLAS factory: Attempting to register factory for plugin cuBLAS when one has already been registered\n",
      "2024-10-22 11:18:38.578700: I external/local_tsl/tsl/cuda/cudart_stub.cc:31] Could not find cuda drivers on your machine, GPU will not be used.\n",
      "2024-10-22 11:18:38.579829: I tensorflow/core/platform/cpu_feature_guard.cc:182] This TensorFlow binary is optimized to use available CPU instructions in performance-critical operations.\n",
      "To enable the following instructions: AVX2 AVX512F FMA, in other operations, rebuild TensorFlow with the appropriate compiler flags.\n",
      "2024-10-22 11:18:47.692674: W tensorflow/compiler/tf2tensorrt/utils/py_utils.cc:38] TF-TRT Warning: Could not find TensorRT\n",
      "/nfs/home/students/d.lochert/miniconda3/envs/astral/lib/python3.10/site-packages/tqdm/auto.py:21: TqdmWarning: IProgress not found. Please update jupyter and ipywidgets. See https://ipywidgets.readthedocs.io/en/stable/user_install.html\n",
      "  from .autonotebook import tqdm as notebook_tqdm\n"
     ]
    },
    {
     "name": "stdout",
     "output_type": "stream",
     "text": [
      "\n",
      "Avaliable feature extractors are (use the key of the following dict and pass it to features_to_extract in the Dataset Class):\n",
      "{\n",
      "   \"atom_count\": \"Atom count of PTM.\",\n",
      "   \"delta_mass\": \"Delta mass of PTM.\",\n",
      "   \"mod_gain\": \"Gain of atoms due to PTM.\",\n",
      "   \"mod_loss\": \"Loss of atoms due to PTM.\",\n",
      "   \"red_smiles\": \"Reduced SMILES representation of PTM.\"\n",
      "}.\n",
      "When writing your own feature extractor, you can either\n",
      "    (1) use the FeatureExtractor class or\n",
      "    (2) write a function that can be mapped to the Hugging Face dataset.\n",
      "In both cases, you can access the parsed sequence information from the dataset using the following keys, which all provide python lists:\n",
      "    - _parsed_sequence: parsed sequence\n",
      "    - _n_term_mods: N-terminal modifications\n",
      "    - _c_term_mods: C-terminal modifications\n",
      "\n"
     ]
    }
   ],
   "source": [
    "import keras\n",
    "import numpy as np\n",
    "import matplotlib.pyplot as plt\n",
    "import tensorflow as tf\n",
    "\n",
    "from dlomix.losses import masked_spectral_distance, masked_pearson_correlation_distance\n",
    "from dlomix.data import FragmentIonIntensityDataset\n",
    "\n",
    "import os"
   ]
  },
  {
   "cell_type": "code",
   "execution_count": 55,
   "metadata": {},
   "outputs": [
    {
     "name": "stdout",
     "output_type": "stream",
     "text": [
      "Model: \"transformer_model_5\"\n",
      "_________________________________________________________________\n",
      " Layer (type)                Output Shape              Param #   \n",
      "=================================================================\n",
      " dense_25 (Dense)            multiple                  6656      \n",
      "                                                                 \n",
      " dense_26 (Dense)            multiple                  3328      \n",
      "                                                                 \n",
      " dense_27 (Dense)            multiple                  131584    \n",
      "                                                                 \n",
      " trans_block_25 (TransBlock  multiple                  524545    \n",
      " )                                                               \n",
      "                                                                 \n",
      " trans_block_26 (TransBlock  multiple                  524545    \n",
      " )                                                               \n",
      "                                                                 \n",
      " trans_block_27 (TransBlock  multiple                  524545    \n",
      " )                                                               \n",
      "                                                                 \n",
      " trans_block_28 (TransBlock  multiple                  524545    \n",
      " )                                                               \n",
      "                                                                 \n",
      " trans_block_29 (TransBlock  multiple                  524545    \n",
      " )                                                               \n",
      "                                                                 \n",
      " dense_28 (Dense)            multiple                  131584    \n",
      "                                                                 \n",
      " sequential_5 (Sequential)   (1024, 30, 512)           1024      \n",
      "                                                                 \n",
      " dense_29 (Dense)            multiple                  89262     \n",
      "                                                                 \n",
      "=================================================================\n",
      "Total params: 3242164 (12.37 MB)\n",
      "Trainable params: 2986164 (11.39 MB)\n",
      "Non-trainable params: 256000 (1000.00 KB)\n",
      "_________________________________________________________________\n"
     ]
    }
   ],
   "source": [
    "model_name = 'b_r_single_both_d5_static_0.0005_TeG'\n",
    "\n",
    "model = keras.saving.load_model('/cmnfs/proj/prosit_astral/saved_models/final_models/%s.keras' % model_name,\n",
    "                                custom_objects={'masked_spectral_distance': masked_spectral_distance, 'masked_pearson_correlation_distance': masked_pearson_correlation_distance}, \n",
    "                                compile=True, safe_mode=True)\n",
    "model.summary()"
   ]
  },
  {
   "cell_type": "code",
   "execution_count": 56,
   "metadata": {},
   "outputs": [],
   "source": [
    "int_data = FragmentIonIntensityDataset.load_from_disk(\"/cmnfs/proj/prosit_astral/datasets/_dlomix_saved/full_dataset\")"
   ]
  },
  {
   "cell_type": "code",
   "execution_count": 57,
   "metadata": {},
   "outputs": [
    {
     "ename": "RuntimeError",
     "evalue": "pybind11::error_already_set: MISMATCH of original and normalized active exception types: ORIGINAL _NotOkStatusException REPLACED BY KeyboardInterrupt: <EMPTY MESSAGE>\n\nAt:\n  /nfs/home/students/d.lochert/miniconda3/envs/astral/lib/python3.10/site-packages/tensorflow/python/eager/core.py(42): __init__\n  /nfs/home/students/d.lochert/miniconda3/envs/astral/lib/python3.10/site-packages/tensorflow/python/ops/gen_dataset_ops.py(3024): iterator_get_next\n  /nfs/home/students/d.lochert/miniconda3/envs/astral/lib/python3.10/site-packages/tensorflow/python/data/ops/iterator_ops.py(773): _next_internal\n  /nfs/home/students/d.lochert/miniconda3/envs/astral/lib/python3.10/site-packages/tensorflow/python/data/ops/iterator_ops.py(810): __next__\n  /tmp/ipykernel_1999882/1637051582.py(1): <listcomp>\n  /tmp/ipykernel_1999882/1637051582.py(1): <module>\n  /nfs/home/students/d.lochert/.local/lib/python3.10/site-packages/IPython/core/interactiveshell.py(3508): run_code\n  /nfs/home/students/d.lochert/.local/lib/python3.10/site-packages/IPython/core/interactiveshell.py(3448): run_ast_nodes\n  /nfs/home/students/d.lochert/.local/lib/python3.10/site-packages/IPython/core/interactiveshell.py(3269): run_cell_async\n  /nfs/home/students/d.lochert/.local/lib/python3.10/site-packages/IPython/core/async_helpers.py(129): _pseudo_sync_runner\n  /nfs/home/students/d.lochert/.local/lib/python3.10/site-packages/IPython/core/interactiveshell.py(3064): _run_cell\n  /nfs/home/students/d.lochert/.local/lib/python3.10/site-packages/IPython/core/interactiveshell.py(3009): run_cell\n  /nfs/home/students/d.lochert/.local/lib/python3.10/site-packages/ipykernel/zmqshell.py(540): run_cell\n  /nfs/home/students/d.lochert/.local/lib/python3.10/site-packages/ipykernel/ipkernel.py(422): do_execute\n  /nfs/home/students/d.lochert/.local/lib/python3.10/site-packages/ipykernel/kernelbase.py(729): execute_request\n  /nfs/home/students/d.lochert/.local/lib/python3.10/site-packages/ipykernel/kernelbase.py(409): dispatch_shell\n  /nfs/home/students/d.lochert/.local/lib/python3.10/site-packages/ipykernel/kernelbase.py(502): process_one\n  /nfs/home/students/d.lochert/.local/lib/python3.10/site-packages/ipykernel/kernelbase.py(513): dispatch_queue\n  /nfs/home/students/d.lochert/miniconda3/envs/astral/lib/python3.10/asyncio/events.py(80): _run\n  /nfs/home/students/d.lochert/miniconda3/envs/astral/lib/python3.10/asyncio/base_events.py(1909): _run_once\n  /nfs/home/students/d.lochert/miniconda3/envs/astral/lib/python3.10/asyncio/base_events.py(603): run_forever\n  /nfs/home/students/d.lochert/.local/lib/python3.10/site-packages/tornado/platform/asyncio.py(195): start\n  /nfs/home/students/d.lochert/.local/lib/python3.10/site-packages/ipykernel/kernelapp.py(725): start\n  /nfs/home/students/d.lochert/.local/lib/python3.10/site-packages/traitlets/config/application.py(1043): launch_instance\n  /nfs/home/students/d.lochert/.local/lib/python3.10/site-packages/ipykernel_launcher.py(17): <module>\n  /nfs/home/students/d.lochert/miniconda3/envs/astral/lib/python3.10/runpy.py(86): _run_code\n  /nfs/home/students/d.lochert/miniconda3/envs/astral/lib/python3.10/runpy.py(196): _run_module_as_main\n",
     "output_type": "error",
     "traceback": [
      "\u001b[0;31m---------------------------------------------------------------------------\u001b[0m",
      "\u001b[0;31mRuntimeError\u001b[0m                              Traceback (most recent call last)",
      "Cell \u001b[0;32mIn[57], line 1\u001b[0m\n\u001b[0;32m----> 1\u001b[0m eval_batches \u001b[38;5;241m=\u001b[39m [m \u001b[38;5;28;01mfor\u001b[39;00m m \u001b[38;5;129;01min\u001b[39;00m int_data\u001b[38;5;241m.\u001b[39mtensor_train_data\u001b[38;5;241m.\u001b[39mtake(\u001b[38;5;241m50\u001b[39m)]\n\u001b[1;32m      3\u001b[0m pred_ast \u001b[38;5;241m=\u001b[39m []\n\u001b[1;32m      4\u001b[0m pred_tof \u001b[38;5;241m=\u001b[39m []\n",
      "Cell \u001b[0;32mIn[57], line 1\u001b[0m, in \u001b[0;36m<listcomp>\u001b[0;34m(.0)\u001b[0m\n\u001b[0;32m----> 1\u001b[0m eval_batches \u001b[38;5;241m=\u001b[39m [m \u001b[38;5;28;01mfor\u001b[39;00m m \u001b[38;5;129;01min\u001b[39;00m int_data\u001b[38;5;241m.\u001b[39mtensor_train_data\u001b[38;5;241m.\u001b[39mtake(\u001b[38;5;241m50\u001b[39m)]\n\u001b[1;32m      3\u001b[0m pred_ast \u001b[38;5;241m=\u001b[39m []\n\u001b[1;32m      4\u001b[0m pred_tof \u001b[38;5;241m=\u001b[39m []\n",
      "File \u001b[0;32m~/miniconda3/envs/astral/lib/python3.10/site-packages/tensorflow/python/data/ops/iterator_ops.py:810\u001b[0m, in \u001b[0;36mOwnedIterator.__next__\u001b[0;34m(self)\u001b[0m\n\u001b[1;32m    808\u001b[0m \u001b[38;5;28;01mdef\u001b[39;00m \u001b[38;5;21m__next__\u001b[39m(\u001b[38;5;28mself\u001b[39m):\n\u001b[1;32m    809\u001b[0m   \u001b[38;5;28;01mtry\u001b[39;00m:\n\u001b[0;32m--> 810\u001b[0m     \u001b[38;5;28;01mreturn\u001b[39;00m \u001b[38;5;28;43mself\u001b[39;49m\u001b[38;5;241;43m.\u001b[39;49m\u001b[43m_next_internal\u001b[49m\u001b[43m(\u001b[49m\u001b[43m)\u001b[49m\n\u001b[1;32m    811\u001b[0m   \u001b[38;5;28;01mexcept\u001b[39;00m errors\u001b[38;5;241m.\u001b[39mOutOfRangeError:\n\u001b[1;32m    812\u001b[0m     \u001b[38;5;28;01mraise\u001b[39;00m \u001b[38;5;167;01mStopIteration\u001b[39;00m\n",
      "File \u001b[0;32m~/miniconda3/envs/astral/lib/python3.10/site-packages/tensorflow/python/data/ops/iterator_ops.py:773\u001b[0m, in \u001b[0;36mOwnedIterator._next_internal\u001b[0;34m(self)\u001b[0m\n\u001b[1;32m    770\u001b[0m \u001b[38;5;66;03m# TODO(b/77291417): This runs in sync mode as iterators use an error status\u001b[39;00m\n\u001b[1;32m    771\u001b[0m \u001b[38;5;66;03m# to communicate that there is no more data to iterate over.\u001b[39;00m\n\u001b[1;32m    772\u001b[0m \u001b[38;5;28;01mwith\u001b[39;00m context\u001b[38;5;241m.\u001b[39mexecution_mode(context\u001b[38;5;241m.\u001b[39mSYNC):\n\u001b[0;32m--> 773\u001b[0m   ret \u001b[38;5;241m=\u001b[39m \u001b[43mgen_dataset_ops\u001b[49m\u001b[38;5;241;43m.\u001b[39;49m\u001b[43miterator_get_next\u001b[49m\u001b[43m(\u001b[49m\n\u001b[1;32m    774\u001b[0m \u001b[43m      \u001b[49m\u001b[38;5;28;43mself\u001b[39;49m\u001b[38;5;241;43m.\u001b[39;49m\u001b[43m_iterator_resource\u001b[49m\u001b[43m,\u001b[49m\n\u001b[1;32m    775\u001b[0m \u001b[43m      \u001b[49m\u001b[43moutput_types\u001b[49m\u001b[38;5;241;43m=\u001b[39;49m\u001b[38;5;28;43mself\u001b[39;49m\u001b[38;5;241;43m.\u001b[39;49m\u001b[43m_flat_output_types\u001b[49m\u001b[43m,\u001b[49m\n\u001b[1;32m    776\u001b[0m \u001b[43m      \u001b[49m\u001b[43moutput_shapes\u001b[49m\u001b[38;5;241;43m=\u001b[39;49m\u001b[38;5;28;43mself\u001b[39;49m\u001b[38;5;241;43m.\u001b[39;49m\u001b[43m_flat_output_shapes\u001b[49m\u001b[43m)\u001b[49m\n\u001b[1;32m    778\u001b[0m   \u001b[38;5;28;01mtry\u001b[39;00m:\n\u001b[1;32m    779\u001b[0m     \u001b[38;5;66;03m# Fast path for the case `self._structure` is not a nested structure.\u001b[39;00m\n\u001b[1;32m    780\u001b[0m     \u001b[38;5;28;01mreturn\u001b[39;00m \u001b[38;5;28mself\u001b[39m\u001b[38;5;241m.\u001b[39m_element_spec\u001b[38;5;241m.\u001b[39m_from_compatible_tensor_list(ret)  \u001b[38;5;66;03m# pylint: disable=protected-access\u001b[39;00m\n",
      "File \u001b[0;32m~/miniconda3/envs/astral/lib/python3.10/site-packages/tensorflow/python/ops/gen_dataset_ops.py:3024\u001b[0m, in \u001b[0;36miterator_get_next\u001b[0;34m(iterator, output_types, output_shapes, name)\u001b[0m\n\u001b[1;32m   3022\u001b[0m \u001b[38;5;28;01mif\u001b[39;00m tld\u001b[38;5;241m.\u001b[39mis_eager:\n\u001b[1;32m   3023\u001b[0m   \u001b[38;5;28;01mtry\u001b[39;00m:\n\u001b[0;32m-> 3024\u001b[0m     _result \u001b[38;5;241m=\u001b[39m \u001b[43mpywrap_tfe\u001b[49m\u001b[38;5;241;43m.\u001b[39;49m\u001b[43mTFE_Py_FastPathExecute\u001b[49m\u001b[43m(\u001b[49m\n\u001b[1;32m   3025\u001b[0m \u001b[43m      \u001b[49m\u001b[43m_ctx\u001b[49m\u001b[43m,\u001b[49m\u001b[43m \u001b[49m\u001b[38;5;124;43m\"\u001b[39;49m\u001b[38;5;124;43mIteratorGetNext\u001b[39;49m\u001b[38;5;124;43m\"\u001b[39;49m\u001b[43m,\u001b[49m\u001b[43m \u001b[49m\u001b[43mname\u001b[49m\u001b[43m,\u001b[49m\u001b[43m \u001b[49m\u001b[43miterator\u001b[49m\u001b[43m,\u001b[49m\u001b[43m \u001b[49m\u001b[38;5;124;43m\"\u001b[39;49m\u001b[38;5;124;43moutput_types\u001b[39;49m\u001b[38;5;124;43m\"\u001b[39;49m\u001b[43m,\u001b[49m\u001b[43m \u001b[49m\u001b[43moutput_types\u001b[49m\u001b[43m,\u001b[49m\n\u001b[1;32m   3026\u001b[0m \u001b[43m      \u001b[49m\u001b[38;5;124;43m\"\u001b[39;49m\u001b[38;5;124;43moutput_shapes\u001b[39;49m\u001b[38;5;124;43m\"\u001b[39;49m\u001b[43m,\u001b[49m\u001b[43m \u001b[49m\u001b[43moutput_shapes\u001b[49m\u001b[43m)\u001b[49m\n\u001b[1;32m   3027\u001b[0m     \u001b[38;5;28;01mreturn\u001b[39;00m _result\n\u001b[1;32m   3028\u001b[0m   \u001b[38;5;28;01mexcept\u001b[39;00m _core\u001b[38;5;241m.\u001b[39m_NotOkStatusException \u001b[38;5;28;01mas\u001b[39;00m e:\n",
      "\u001b[0;31mRuntimeError\u001b[0m: pybind11::error_already_set: MISMATCH of original and normalized active exception types: ORIGINAL _NotOkStatusException REPLACED BY KeyboardInterrupt: <EMPTY MESSAGE>\n\nAt:\n  /nfs/home/students/d.lochert/miniconda3/envs/astral/lib/python3.10/site-packages/tensorflow/python/eager/core.py(42): __init__\n  /nfs/home/students/d.lochert/miniconda3/envs/astral/lib/python3.10/site-packages/tensorflow/python/ops/gen_dataset_ops.py(3024): iterator_get_next\n  /nfs/home/students/d.lochert/miniconda3/envs/astral/lib/python3.10/site-packages/tensorflow/python/data/ops/iterator_ops.py(773): _next_internal\n  /nfs/home/students/d.lochert/miniconda3/envs/astral/lib/python3.10/site-packages/tensorflow/python/data/ops/iterator_ops.py(810): __next__\n  /tmp/ipykernel_1999882/1637051582.py(1): <listcomp>\n  /tmp/ipykernel_1999882/1637051582.py(1): <module>\n  /nfs/home/students/d.lochert/.local/lib/python3.10/site-packages/IPython/core/interactiveshell.py(3508): run_code\n  /nfs/home/students/d.lochert/.local/lib/python3.10/site-packages/IPython/core/interactiveshell.py(3448): run_ast_nodes\n  /nfs/home/students/d.lochert/.local/lib/python3.10/site-packages/IPython/core/interactiveshell.py(3269): run_cell_async\n  /nfs/home/students/d.lochert/.local/lib/python3.10/site-packages/IPython/core/async_helpers.py(129): _pseudo_sync_runner\n  /nfs/home/students/d.lochert/.local/lib/python3.10/site-packages/IPython/core/interactiveshell.py(3064): _run_cell\n  /nfs/home/students/d.lochert/.local/lib/python3.10/site-packages/IPython/core/interactiveshell.py(3009): run_cell\n  /nfs/home/students/d.lochert/.local/lib/python3.10/site-packages/ipykernel/zmqshell.py(540): run_cell\n  /nfs/home/students/d.lochert/.local/lib/python3.10/site-packages/ipykernel/ipkernel.py(422): do_execute\n  /nfs/home/students/d.lochert/.local/lib/python3.10/site-packages/ipykernel/kernelbase.py(729): execute_request\n  /nfs/home/students/d.lochert/.local/lib/python3.10/site-packages/ipykernel/kernelbase.py(409): dispatch_shell\n  /nfs/home/students/d.lochert/.local/lib/python3.10/site-packages/ipykernel/kernelbase.py(502): process_one\n  /nfs/home/students/d.lochert/.local/lib/python3.10/site-packages/ipykernel/kernelbase.py(513): dispatch_queue\n  /nfs/home/students/d.lochert/miniconda3/envs/astral/lib/python3.10/asyncio/events.py(80): _run\n  /nfs/home/students/d.lochert/miniconda3/envs/astral/lib/python3.10/asyncio/base_events.py(1909): _run_once\n  /nfs/home/students/d.lochert/miniconda3/envs/astral/lib/python3.10/asyncio/base_events.py(603): run_forever\n  /nfs/home/students/d.lochert/.local/lib/python3.10/site-packages/tornado/platform/asyncio.py(195): start\n  /nfs/home/students/d.lochert/.local/lib/python3.10/site-packages/ipykernel/kernelapp.py(725): start\n  /nfs/home/students/d.lochert/.local/lib/python3.10/site-packages/traitlets/config/application.py(1043): launch_instance\n  /nfs/home/students/d.lochert/.local/lib/python3.10/site-packages/ipykernel_launcher.py(17): <module>\n  /nfs/home/students/d.lochert/miniconda3/envs/astral/lib/python3.10/runpy.py(86): _run_code\n  /nfs/home/students/d.lochert/miniconda3/envs/astral/lib/python3.10/runpy.py(196): _run_module_as_main\n"
     ]
    }
   ],
   "source": [
    "eval_batches = [m for m in int_data.tensor_train_data.take(3)]\n",
    "\n",
    "pred_ast = []\n",
    "pred_tof = []\n",
    "pred_lum = []\n",
    "\n",
    "true_ast = []\n",
    "true_tof = []\n",
    "true_lum = []\n",
    "\n",
    "\n",
    "for j in range(len(eval_batches)):\n",
    "\n",
    "    #eval_batches[j][0][\"method_nr_oh\"] = tf.constant([[1., 0.]] * 1024, dtype=tf.float32)\n",
    "\n",
    "    pred = model.predict(eval_batches[j][0])\n",
    "\n",
    "    batch_size = pred.shape[0]\n",
    "\n",
    "    mach = np.split(eval_batches[j][0]['machine_oh'], batch_size, axis=0)\n",
    "    pred = np.split(pred, batch_size, axis=0)\n",
    "    true = np.split(eval_batches[j][1], batch_size, axis=0)\n",
    "\n",
    "    for i in range(batch_size):\n",
    "\n",
    "        if np.argmax(mach[i]) == 0:\n",
    "            pred_ast.append(pred[i])\n",
    "            true_ast.append(true[i])\n",
    "        elif np.argmax(mach[i]) == 1:\n",
    "            pred_tof.append(pred[i])\n",
    "            true_tof.append(true[i])\n",
    "        elif np.argmax(mach[i]) == 2:\n",
    "            pred_lum.append(pred[i])\n",
    "            true_lum.append(true[i])\n",
    "\n",
    "pred_ast = np.concatenate(pred_ast, axis=0)\n",
    "pred_tof = np.concatenate(pred_tof, axis=0)\n",
    "pred_lum = np.concatenate(pred_lum, axis=0)\n",
    "\n",
    "true_ast = np.concatenate(true_ast, axis=0)\n",
    "true_tof = np.concatenate(true_tof, axis=0)\n",
    "true_lum = np.concatenate(true_lum, axis=0)\n",
    "\n",
    "print('AST: ', tf.reduce_mean( masked_spectral_distance(true_ast, pred_ast) ))\n",
    "print('TOF: ', tf.reduce_mean( masked_spectral_distance(true_tof, pred_tof) ))\n",
    "print('LUM: ', tf.reduce_mean( masked_spectral_distance(true_lum, pred_lum) ))"
   ]
  },
  {
   "cell_type": "code",
   "execution_count": 44,
   "metadata": {},
   "outputs": [
    {
     "data": {
      "text/plain": [
       "<tf.Tensor: shape=(1024, 2), dtype=float32, numpy=\n",
       "array([[0., 1.],\n",
       "       [0., 1.],\n",
       "       [0., 1.],\n",
       "       ...,\n",
       "       [0., 1.],\n",
       "       [0., 1.],\n",
       "       [0., 1.]], dtype=float32)>"
      ]
     },
     "execution_count": 44,
     "metadata": {},
     "output_type": "execute_result"
    }
   ],
   "source": [
    "eval_batches[0][0][\"method_nr_oh\"]\n",
    "\n",
    "tf.constant([[0., 1.]] * 1024, dtype=tf.float32)"
   ]
  },
  {
   "cell_type": "code",
   "execution_count": 37,
   "metadata": {},
   "outputs": [
    {
     "name": "stdout",
     "output_type": "stream",
     "text": [
      "AST:  tf.Tensor(0.5086041, shape=(), dtype=float32)\n",
      "TOF:  tf.Tensor(0.7088966, shape=(), dtype=float32)\n",
      "LUM:  tf.Tensor(0.68091726, shape=(), dtype=float32)\n"
     ]
    }
   ],
   "source": [
    "print('AST: ', tf.reduce_mean( masked_spectral_distance(true_ast, pred_ast) ))\n",
    "print('TOF: ', tf.reduce_mean( masked_spectral_distance(true_tof, pred_tof) ))\n",
    "print('LUM: ', tf.reduce_mean( masked_spectral_distance(true_lum, pred_lum) ))"
   ]
  },
  {
   "cell_type": "code",
   "execution_count": 52,
   "metadata": {},
   "outputs": [
    {
     "data": {
      "text/plain": [
       "dataset  model \n",
       "AST      full      0.829409\n",
       "         single    0.823133\n",
       "LUM      full      0.926071\n",
       "         single    0.927606\n",
       "TOF      full      0.880708\n",
       "         single    0.857731\n",
       "Name: loss, dtype: float32"
      ]
     },
     "execution_count": 52,
     "metadata": {},
     "output_type": "execute_result"
    }
   ],
   "source": [
    "import pandas as pd\n",
    "import numpy as np\n",
    "\n",
    "tmp = pd.DataFrame({\n",
    "    'model': np.repeat(\"single\", len(pred_ast)),\n",
    "    'dataset': [\"AST\"] * len(pred_ast),\n",
    "    'loss': 1 - tf.concat([masked_spectral_distance(true_ast, pred_ast)], axis=0),\n",
    "})\n",
    "\n",
    "all_data = pd.concat([all_data, tmp], axis=0)\n",
    "\n",
    "all_data.groupby(['dataset', 'model'])['loss'].median()"
   ]
  },
  {
   "cell_type": "code",
   "execution_count": 30,
   "metadata": {},
   "outputs": [
    {
     "data": {
      "text/plain": [
       "dataset  model \n",
       "LUM      single    0.927606\n",
       "Name: loss, dtype: float32"
      ]
     },
     "execution_count": 30,
     "metadata": {},
     "output_type": "execute_result"
    }
   ],
   "source": [
    "tmp\n",
    "tmp.groupby(['dataset', 'model'])['loss'].median()"
   ]
  },
  {
   "cell_type": "code",
   "execution_count": 53,
   "metadata": {},
   "outputs": [],
   "source": [
    "# save all_data\n",
    "all_data.to_csv('~/projects/astral/dlomix-astral/plots/full_vs_balanced/data.csv', index=False)"
   ]
  }
 ],
 "metadata": {
  "kernelspec": {
   "display_name": "astral",
   "language": "python",
   "name": "python3"
  },
  "language_info": {
   "codemirror_mode": {
    "name": "ipython",
    "version": 3
   },
   "file_extension": ".py",
   "mimetype": "text/x-python",
   "name": "python",
   "nbconvert_exporter": "python",
   "pygments_lexer": "ipython3",
   "version": "3.10.14"
  }
 },
 "nbformat": 4,
 "nbformat_minor": 2
}
