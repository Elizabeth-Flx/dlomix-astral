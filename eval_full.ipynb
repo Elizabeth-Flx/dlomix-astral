{
 "cells": [
  {
   "cell_type": "code",
   "execution_count": 1,
   "metadata": {},
   "outputs": [
    {
     "name": "stderr",
     "output_type": "stream",
     "text": [
      "2024-10-21 19:58:46.572820: I external/local_tsl/tsl/cuda/cudart_stub.cc:31] Could not find cuda drivers on your machine, GPU will not be used.\n",
      "2024-10-21 19:58:48.036546: E external/local_xla/xla/stream_executor/cuda/cuda_dnn.cc:9261] Unable to register cuDNN factory: Attempting to register factory for plugin cuDNN when one has already been registered\n",
      "2024-10-21 19:58:48.036687: E external/local_xla/xla/stream_executor/cuda/cuda_fft.cc:607] Unable to register cuFFT factory: Attempting to register factory for plugin cuFFT when one has already been registered\n",
      "2024-10-21 19:58:48.145265: E external/local_xla/xla/stream_executor/cuda/cuda_blas.cc:1515] Unable to register cuBLAS factory: Attempting to register factory for plugin cuBLAS when one has already been registered\n",
      "2024-10-21 19:58:48.762586: I external/local_tsl/tsl/cuda/cudart_stub.cc:31] Could not find cuda drivers on your machine, GPU will not be used.\n",
      "2024-10-21 19:58:48.764460: I tensorflow/core/platform/cpu_feature_guard.cc:182] This TensorFlow binary is optimized to use available CPU instructions in performance-critical operations.\n",
      "To enable the following instructions: AVX2 AVX512F FMA, in other operations, rebuild TensorFlow with the appropriate compiler flags.\n",
      "2024-10-21 19:59:01.226481: W tensorflow/compiler/tf2tensorrt/utils/py_utils.cc:38] TF-TRT Warning: Could not find TensorRT\n",
      "/nfs/home/students/d.lochert/miniconda3/envs/astral/lib/python3.10/site-packages/tqdm/auto.py:21: TqdmWarning: IProgress not found. Please update jupyter and ipywidgets. See https://ipywidgets.readthedocs.io/en/stable/user_install.html\n",
      "  from .autonotebook import tqdm as notebook_tqdm\n"
     ]
    },
    {
     "name": "stdout",
     "output_type": "stream",
     "text": [
      "\n",
      "Avaliable feature extractors are (use the key of the following dict and pass it to features_to_extract in the Dataset Class):\n",
      "{\n",
      "   \"atom_count\": \"Atom count of PTM.\",\n",
      "   \"delta_mass\": \"Delta mass of PTM.\",\n",
      "   \"mod_gain\": \"Gain of atoms due to PTM.\",\n",
      "   \"mod_loss\": \"Loss of atoms due to PTM.\",\n",
      "   \"red_smiles\": \"Reduced SMILES representation of PTM.\"\n",
      "}.\n",
      "When writing your own feature extractor, you can either\n",
      "    (1) use the FeatureExtractor class or\n",
      "    (2) write a function that can be mapped to the Hugging Face dataset.\n",
      "In both cases, you can access the parsed sequence information from the dataset using the following keys, which all provide python lists:\n",
      "    - _parsed_sequence: parsed sequence\n",
      "    - _n_term_mods: N-terminal modifications\n",
      "    - _c_term_mods: C-terminal modifications\n",
      "\n"
     ]
    }
   ],
   "source": [
    "import keras\n",
    "import numpy as np\n",
    "import matplotlib.pyplot as plt\n",
    "import tensorflow as tf\n",
    "\n",
    "from dlomix.losses import masked_spectral_distance, masked_pearson_correlation_distance\n",
    "from dlomix.data import FragmentIonIntensityDataset\n",
    "\n",
    "import os"
   ]
  },
  {
   "cell_type": "code",
   "execution_count": 40,
   "metadata": {},
   "outputs": [],
   "source": [
    "model_names = [\n",
    "    #\"f_r_embed_input_d5_static_0.0005_28j\",\n",
    "    #\"f_r_penult_mult_d5_static_0.0005_Ag0\",\n",
    "    \"f_r_penult_sum_d5_static_0.0005_370\",\n",
    "    \"f_r_single_both_d5_static_0.0005_GTs\",\n",
    "    \"f_r_single_mult_d5_static_0.0005_JT1\",\n",
    "    \"f_r_single_sum_d5_static_0.0005_F8t\",\n",
    "    \"f_r_FiLM_reduced_d5_static_0.0005_9vG\",\n",
    "    \"f_r_FiLM_full_d5_static_0.0005_XOr\",\n",
    "    \"f_r_token_mult_d5_static_0.0005_eW4\",\n",
    "    \"0.1107_f_r_token_sum_d5_static_0.0005_9I4\",\n",
    "    \"f_r_single_token_d5_static_0.0005_lm6\",\n",
    "    \"f_r_multi_token_d5_static_0.0005_RvL\",\n",
    "]\n",
    "\n",
    "model_labels = [name.split('_r_')[1].split('_d5_')[0] for name in model_names]\n",
    "model_labels = [\n",
    "    \"penult sum\",\n",
    "    \"simple mult & sum\",\n",
    "    \"simple mult\",\n",
    "    \"simple sum\",\n",
    "    \"FiLM reduced\",\n",
    "    \"FiLM full\",\n",
    "    \"elementwise mult\",\n",
    "    \"elementwise sum\",\n",
    "    \"single token\",\n",
    "    \"multi token\",\n",
    "]\n",
    "\n",
    "# adjust custom palette\n",
    "custom_palette = {\n",
    "    'penult sum'            : \"#a1c9f4\",\n",
    "    'simple mult & sum'     : \"#d0bbff\",\n",
    "    'simple mult'           : \"#ff9f9b\",\n",
    "    'simple sum'            : \"#a1c9f4\",\n",
    "    'FiLM reduced'          : \"#d0bbff\",\n",
    "    'FiLM full'             : \"#d0bbff\",\n",
    "    'elementwise mult'      : \"#ff9f9b\",\n",
    "    'elementwise sum'       : \"#a1c9f4\",\n",
    "    'single token'          : \"#cfcfcf\",\n",
    "    'multi token'           : \"#cfcfcf\",\n",
    "}\n",
    "\n",
    "# custom_palette = {\n",
    "#     'penult_sum'    : \"brown\",\n",
    "#     'single_both'   : \"grey\",\n",
    "#     'single_mult'   : \"grey\",\n",
    "#     'single_sum'    : \"grey\",\n",
    "#     'FiLM_reduced'  : \"green\",\n",
    "#     'FiLM_full'     : \"green\",\n",
    "#     'token_mult'    : \"orange\",\n",
    "#     'token_sum'     : \"orange\",\n",
    "#     'single_token'  : \"purple\",\n",
    "#     'multi_token'   : \"purple\",\n",
    "# }"
   ]
  },
  {
   "cell_type": "code",
   "execution_count": 7,
   "metadata": {},
   "outputs": [
    {
     "name": "stdout",
     "output_type": "stream",
     "text": [
      "f_r_single_sum_d5_static_0.0005_F8t\n",
      "Model: \"transformer_model_1\"\n",
      "_________________________________________________________________\n",
      " Layer (type)                Output Shape              Param #   \n",
      "=================================================================\n",
      " dense_5 (Dense)             multiple                  6656      \n",
      "                                                                 \n",
      " dense_6 (Dense)             multiple                  3328      \n",
      "                                                                 \n",
      " dense_7 (Dense)             multiple                  65792     \n",
      "                                                                 \n",
      " trans_block_5 (TransBlock)  multiple                  524545    \n",
      "                                                                 \n",
      " trans_block_6 (TransBlock)  multiple                  524545    \n",
      "                                                                 \n",
      " trans_block_7 (TransBlock)  multiple                  524545    \n",
      "                                                                 \n",
      " trans_block_8 (TransBlock)  multiple                  524545    \n",
      "                                                                 \n",
      " trans_block_9 (TransBlock)  multiple                  524545    \n",
      "                                                                 \n",
      " dense_8 (Dense)             multiple                  131584    \n",
      "                                                                 \n",
      " sequential_1 (Sequential)   (1024, 30, 512)           1024      \n",
      "                                                                 \n",
      " dense_9 (Dense)             multiple                  89262     \n",
      "                                                                 \n",
      "=================================================================\n",
      "Total params: 3176372 (12.12 MB)\n",
      "Trainable params: 2920372 (11.14 MB)\n",
      "Non-trainable params: 256000 (1000.00 KB)\n",
      "_________________________________________________________________\n"
     ]
    }
   ],
   "source": [
    "print(model_names[5])\n",
    "\n",
    "model = keras.saving.load_model('/cmnfs/proj/prosit_astral/saved_models/final_models/%s.keras' % model_names[5],\n",
    "                                custom_objects={'masked_spectral_distance': masked_spectral_distance, 'masked_pearson_correlation_distance': masked_pearson_correlation_distance}, \n",
    "                                compile=True, safe_mode=True)\n",
    "model.summary()\n",
    "\n",
    "\n",
    "print(len(int_data.tensor_train_data))\n",
    "print(len(int_data.tensor_val_data))"
   ]
  },
  {
   "cell_type": "code",
   "execution_count": 6,
   "metadata": {},
   "outputs": [],
   "source": [
    "int_data = FragmentIonIntensityDataset.load_from_disk(\"/cmnfs/proj/prosit_astral/datasets/_dlomix_saved/full_dataset\")"
   ]
  },
  {
   "cell_type": "code",
   "execution_count": 7,
   "metadata": {},
   "outputs": [
    {
     "name": "stdout",
     "output_type": "stream",
     "text": [
      "Loss:  tf.Tensor(0.11068027, shape=(), dtype=float32)\n",
      "Loss:  tf.Tensor(0.10536687, shape=(), dtype=float32)\n",
      "Loss:  tf.Tensor(0.105747946, shape=(), dtype=float32)\n",
      "Loss:  tf.Tensor(0.10804893, shape=(), dtype=float32)\n",
      "Loss:  tf.Tensor(0.112146765, shape=(), dtype=float32)\n",
      "Loss:  tf.Tensor(0.106130846, shape=(), dtype=float32)\n",
      "Loss:  tf.Tensor(0.10583858, shape=(), dtype=float32)\n",
      "Loss:  tf.Tensor(0.10766454, shape=(), dtype=float32)\n",
      "Loss:  tf.Tensor(0.10595432, shape=(), dtype=float32)\n",
      "Loss:  tf.Tensor(0.10683932, shape=(), dtype=float32)\n",
      "[<tf.Tensor: shape=(2048,), dtype=float32, numpy=\n",
      "array([0.02740276, 0.13804853, 0.11117673, ..., 0.03686016, 0.03835006,\n",
      "       0.05804122], dtype=float32)>, <tf.Tensor: shape=(2048,), dtype=float32, numpy=\n",
      "array([0.01733022, 0.12754469, 0.10577754, ..., 0.05172935, 0.03353242,\n",
      "       0.06361057], dtype=float32)>, <tf.Tensor: shape=(2048,), dtype=float32, numpy=\n",
      "array([0.01783858, 0.10208219, 0.11496042, ..., 0.02712   , 0.03145358,\n",
      "       0.06138211], dtype=float32)>, <tf.Tensor: shape=(2048,), dtype=float32, numpy=\n",
      "array([0.01880644, 0.11530199, 0.09523156, ..., 0.04964786, 0.03284943,\n",
      "       0.0655371 ], dtype=float32)>, <tf.Tensor: shape=(2048,), dtype=float32, numpy=\n",
      "array([0.01186958, 0.10691382, 0.10866486, ..., 0.05691758, 0.0243571 ,\n",
      "       0.06295982], dtype=float32)>, <tf.Tensor: shape=(2048,), dtype=float32, numpy=\n",
      "array([0.02843363, 0.13083836, 0.12347692, ..., 0.02119695, 0.03945298,\n",
      "       0.05972119], dtype=float32)>, <tf.Tensor: shape=(2048,), dtype=float32, numpy=\n",
      "array([0.01629857, 0.17298225, 0.11046822, ..., 0.01817668, 0.02833572,\n",
      "       0.06171624], dtype=float32)>, <tf.Tensor: shape=(2048,), dtype=float32, numpy=\n",
      "array([0.0228904 , 0.12099937, 0.13482234, ..., 0.06301783, 0.02486954,\n",
      "       0.06797513], dtype=float32)>, <tf.Tensor: shape=(2048,), dtype=float32, numpy=\n",
      "array([0.01665778, 0.15701894, 0.1017153 , ..., 0.063769  , 0.02684327,\n",
      "       0.07392699], dtype=float32)>, <tf.Tensor: shape=(2048,), dtype=float32, numpy=\n",
      "array([0.01835261, 0.12411316, 0.0898908 , ..., 0.03494697, 0.03818584,\n",
      "       0.06165034], dtype=float32)>]\n"
     ]
    }
   ],
   "source": [
    "losses = []\n",
    "\n",
    "eval_batches = [m for m in int_data.tensor_val_data.take(2)]\n",
    "\n",
    "for model_name in model_names:\n",
    "\n",
    "    model = keras.saving.load_model('/cmnfs/proj/prosit_astral/saved_models/final_models/%s.keras' % model_name,\n",
    "                                custom_objects={'masked_spectral_distance': masked_spectral_distance, 'masked_pearson_correlation_distance': masked_pearson_correlation_distance}, \n",
    "                                compile=True, safe_mode=True)\n",
    "    \n",
    "    pred = []\n",
    "    true = []\n",
    "    \n",
    "    for j in range(0, len(eval_batches)):\n",
    "    \n",
    "        predictions = model.predict(eval_batches[j][0], verbose=0)\n",
    "    \n",
    "        pred += np.split(predictions,        predictions.shape[0], axis=0) \n",
    "        true += np.split(eval_batches[j][1], predictions.shape[0], axis=0) \n",
    "    \n",
    "    pred = np.concatenate(pred, axis=0)\n",
    "    true = np.concatenate(true, axis=0)\n",
    "    \n",
    "    print('Loss: ', tf.reduce_mean( masked_spectral_distance(true, pred) ))\n",
    "\n",
    "    losses.append(masked_spectral_distance(true, pred))\n",
    "\n",
    "print(losses)"
   ]
  },
  {
   "cell_type": "code",
   "execution_count": 41,
   "metadata": {},
   "outputs": [
    {
     "name": "stdout",
     "output_type": "stream",
     "text": [
      "20480\n",
      "20480\n",
      "2048\n",
      "2048\n",
      "2048\n",
      "2048\n",
      "2048\n",
      "2048\n",
      "2048\n",
      "2048\n",
      "2048\n",
      "2048\n"
     ]
    },
    {
     "data": {
      "text/plain": [
       "method\n",
       "FiLM full            0.922014\n",
       "FiLM reduced         0.916004\n",
       "elementwise mult     0.921889\n",
       "elementwise sum      0.920472\n",
       "multi token          0.920652\n",
       "penult sum           0.918510\n",
       "simple mult          0.922351\n",
       "simple mult & sum    0.923006\n",
       "simple sum           0.920640\n",
       "single token         0.922315\n",
       "Name: loss, dtype: float32"
      ]
     },
     "execution_count": 41,
     "metadata": {},
     "output_type": "execute_result"
    }
   ],
   "source": [
    "import pandas as pd\n",
    "import numpy as np\n",
    "\n",
    "print(len(np.repeat(model_labels, len(losses[0]))))\n",
    "print(len(tf.concat(losses, axis=0)))\n",
    "\n",
    "for i in losses:\n",
    "    print(len(i))\n",
    "\n",
    "\n",
    "test = pd.DataFrame({\n",
    "    'method': np.repeat(model_labels, len(losses[0])),\n",
    "    'loss': 1 - tf.concat(losses, axis=0),\n",
    "})\n",
    "\n",
    "test.groupby('method')['loss'].median()"
   ]
  },
  {
   "cell_type": "code",
   "execution_count": 42,
   "metadata": {},
   "outputs": [
    {
     "data": {
      "image/png": "[encoded data removed]",
      "text/plain": [
       "<Figure size 700x600 with 1 Axes>"
      ]
     },
     "metadata": {},
     "output_type": "display_data"
    }
   ],
   "source": [
    "import seaborn as sns\n",
    "import matplotlib.pyplot as plt\n",
    "\n",
    "sns.set_theme(style=\"ticks\")\n",
    "\n",
    "# Initialize the figure with a logarithmic x axis\n",
    "f, ax = plt.subplots(figsize=(7, 6))\n",
    "\n",
    "ax.set_xlim(0.85, 1)\n",
    "\n",
    "method_order = test.groupby('method')['loss'].median().sort_values().index\n",
    "\n",
    "sns.boxplot(\n",
    "    test, x=\"loss\", y=\"method\",\n",
    "    order=method_order,  # Order y-axis by median loss\n",
    "    whis=[0, 100], width=.6, palette=custom_palette\n",
    ")\n",
    "\n",
    "\n",
    "# Add in points to show each observation\n",
    "#sns.stripplot(test, x=\"loss\", y=\"method\",order=method_order, size=4, color=\".3\")\n",
    "\n",
    "# Tweak the visual presentation\n",
    "ax.xaxis.grid(True)\n",
    "ax.set(ylabel=\"\")\n",
    "sns.despine(trim=True, left=True)"
   ]
  }
 ],
 "metadata": {
  "kernelspec": {
   "display_name": "astral",
   "language": "python",
   "name": "python3"
  },
  "language_info": {
   "codemirror_mode": {
    "name": "ipython",
    "version": 3
   },
   "file_extension": ".py",
   "mimetype": "text/x-python",
   "name": "python",
   "nbconvert_exporter": "python",
   "pygments_lexer": "ipython3",
   "version": "3.10.14"
  }
 },
 "nbformat": 4,
 "nbformat_minor": 2
}
