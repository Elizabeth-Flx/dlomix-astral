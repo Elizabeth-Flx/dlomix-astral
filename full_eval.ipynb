{
 "cells": [
  {
   "cell_type": "code",
   "execution_count": 1,
   "metadata": {},
   "outputs": [
    {
     "name": "stderr",
     "output_type": "stream",
     "text": [
      "2024-10-15 13:19:09.084548: I external/local_tsl/tsl/cuda/cudart_stub.cc:31] Could not find cuda drivers on your machine, GPU will not be used.\n",
      "2024-10-15 13:19:09.143366: E external/local_xla/xla/stream_executor/cuda/cuda_dnn.cc:9261] Unable to register cuDNN factory: Attempting to register factory for plugin cuDNN when one has already been registered\n",
      "2024-10-15 13:19:09.143401: E external/local_xla/xla/stream_executor/cuda/cuda_fft.cc:607] Unable to register cuFFT factory: Attempting to register factory for plugin cuFFT when one has already been registered\n",
      "2024-10-15 13:19:09.145371: E external/local_xla/xla/stream_executor/cuda/cuda_blas.cc:1515] Unable to register cuBLAS factory: Attempting to register factory for plugin cuBLAS when one has already been registered\n",
      "2024-10-15 13:19:09.154286: I external/local_tsl/tsl/cuda/cudart_stub.cc:31] Could not find cuda drivers on your machine, GPU will not be used.\n",
      "2024-10-15 13:19:09.155217: I tensorflow/core/platform/cpu_feature_guard.cc:182] This TensorFlow binary is optimized to use available CPU instructions in performance-critical operations.\n",
      "To enable the following instructions: AVX2 AVX512F FMA, in other operations, rebuild TensorFlow with the appropriate compiler flags.\n",
      "2024-10-15 13:19:12.864848: W tensorflow/compiler/tf2tensorrt/utils/py_utils.cc:38] TF-TRT Warning: Could not find TensorRT\n",
      "/nfs/home/students/d.lochert/miniconda3/envs/astral/lib/python3.10/site-packages/tqdm/auto.py:21: TqdmWarning: IProgress not found. Please update jupyter and ipywidgets. See https://ipywidgets.readthedocs.io/en/stable/user_install.html\n",
      "  from .autonotebook import tqdm as notebook_tqdm\n"
     ]
    },
    {
     "name": "stdout",
     "output_type": "stream",
     "text": [
      "\n",
      "Avaliable feature extractors are (use the key of the following dict and pass it to features_to_extract in the Dataset Class):\n",
      "{\n",
      "   \"atom_count\": \"Atom count of PTM.\",\n",
      "   \"delta_mass\": \"Delta mass of PTM.\",\n",
      "   \"mod_gain\": \"Gain of atoms due to PTM.\",\n",
      "   \"mod_loss\": \"Loss of atoms due to PTM.\",\n",
      "   \"red_smiles\": \"Reduced SMILES representation of PTM.\"\n",
      "}.\n",
      "When writing your own feature extractor, you can either\n",
      "    (1) use the FeatureExtractor class or\n",
      "    (2) write a function that can be mapped to the Hugging Face dataset.\n",
      "In both cases, you can access the parsed sequence information from the dataset using the following keys, which all provide python lists:\n",
      "    - _parsed_sequence: parsed sequence\n",
      "    - _n_term_mods: N-terminal modifications\n",
      "    - _c_term_mods: C-terminal modifications\n",
      "\n"
     ]
    }
   ],
   "source": [
    "import keras\n",
    "import numpy as np\n",
    "import matplotlib.pyplot as plt\n",
    "import tensorflow as tf\n",
    "\n",
    "from dlomix.losses import masked_spectral_distance, masked_pearson_correlation_distance\n",
    "from dlomix.data import FragmentIonIntensityDataset\n",
    "\n",
    "import os"
   ]
  },
  {
   "cell_type": "code",
   "execution_count": 13,
   "metadata": {},
   "outputs": [
    {
     "data": {
      "text/plain": [
       "['penult_sum',\n",
       " 'single_both',\n",
       " 'single_mult',\n",
       " 'single_sum',\n",
       " 'FiLM_reduced',\n",
       " 'FiLM_full',\n",
       " 'token_mult',\n",
       " 'token_sum',\n",
       " 'single_token',\n",
       " 'multi_token']"
      ]
     },
     "execution_count": 13,
     "metadata": {},
     "output_type": "execute_result"
    }
   ],
   "source": [
    "model_names = [\n",
    "    #\"f_r_embed_input_d5_static_0.0005_28j\",\n",
    "    #\"f_r_penult_mult_d5_static_0.0005_Ag0\",\n",
    "    \"f_r_penult_sum_d5_static_0.0005_370\",\n",
    "    \"f_r_single_both_d5_static_0.0005_GTs\",\n",
    "    \"f_r_single_mult_d5_static_0.0005_JT1\",\n",
    "    \"f_r_single_sum_d5_static_0.0005_F8t\",\n",
    "    \"f_r_FiLM_reduced_d5_static_0.0005_9vG\",\n",
    "    \"f_r_FiLM_full_d5_static_0.0005_XOr\",\n",
    "    \"f_r_token_mult_d5_static_0.0005_eW4\",\n",
    "    \"f_r_token_sum_d5_static_0.0005_9I4\",\n",
    "    \"f_r_single_token_d5_static_0.0005_lm6\",\n",
    "    \"f_r_multi_token_d5_static_0.0005_RvL\",\n",
    "]\n",
    "\n",
    "model_labels = [name.split('_r_')[1].split('_d5_')[0] for name in model_names]\n",
    "model_labels"
   ]
  },
  {
   "cell_type": "code",
   "execution_count": 7,
   "metadata": {},
   "outputs": [
    {
     "name": "stdout",
     "output_type": "stream",
     "text": [
      "f_r_single_sum_d5_static_0.0005_F8t\n",
      "Model: \"transformer_model_1\"\n",
      "_________________________________________________________________\n",
      " Layer (type)                Output Shape              Param #   \n",
      "=================================================================\n",
      " dense_5 (Dense)             multiple                  6656      \n",
      "                                                                 \n",
      " dense_6 (Dense)             multiple                  3328      \n",
      "                                                                 \n",
      " dense_7 (Dense)             multiple                  65792     \n",
      "                                                                 \n",
      " trans_block_5 (TransBlock)  multiple                  524545    \n",
      "                                                                 \n",
      " trans_block_6 (TransBlock)  multiple                  524545    \n",
      "                                                                 \n",
      " trans_block_7 (TransBlock)  multiple                  524545    \n",
      "                                                                 \n",
      " trans_block_8 (TransBlock)  multiple                  524545    \n",
      "                                                                 \n",
      " trans_block_9 (TransBlock)  multiple                  524545    \n",
      "                                                                 \n",
      " dense_8 (Dense)             multiple                  131584    \n",
      "                                                                 \n",
      " sequential_1 (Sequential)   (1024, 30, 512)           1024      \n",
      "                                                                 \n",
      " dense_9 (Dense)             multiple                  89262     \n",
      "                                                                 \n",
      "=================================================================\n",
      "Total params: 3176372 (12.12 MB)\n",
      "Trainable params: 2920372 (11.14 MB)\n",
      "Non-trainable params: 256000 (1000.00 KB)\n",
      "_________________________________________________________________\n"
     ]
    }
   ],
   "source": [
    "print(model_names[5])\n",
    "\n",
    "model = keras.saving.load_model('/cmnfs/proj/prosit_astral/saved_models/final_models/%s.keras' % model_names[5],\n",
    "                                custom_objects={'masked_spectral_distance': masked_spectral_distance, 'masked_pearson_correlation_distance': masked_pearson_correlation_distance}, \n",
    "                                compile=True, safe_mode=True)\n",
    "model.summary()"
   ]
  },
  {
   "cell_type": "code",
   "execution_count": 8,
   "metadata": {},
   "outputs": [],
   "source": [
    "int_data = FragmentIonIntensityDataset.load_from_disk(\"/cmnfs/proj/prosit_astral/datasets/_dlomix_saved/full_dataset\")"
   ]
  },
  {
   "cell_type": "code",
   "execution_count": 14,
   "metadata": {},
   "outputs": [
    {
     "name": "stdout",
     "output_type": "stream",
     "text": [
      "0\n",
      "Loss:  tf.Tensor(0.111140825, shape=(), dtype=float32)\n",
      "0\n",
      "Loss:  tf.Tensor(0.106149524, shape=(), dtype=float32)\n",
      "0\n",
      "Loss:  tf.Tensor(0.10574724, shape=(), dtype=float32)\n",
      "0\n",
      "Loss:  tf.Tensor(0.10824153, shape=(), dtype=float32)\n",
      "0\n",
      "Loss:  tf.Tensor(0.11211727, shape=(), dtype=float32)\n",
      "0\n",
      "Loss:  tf.Tensor(0.10623449, shape=(), dtype=float32)\n",
      "0\n",
      "Loss:  tf.Tensor(0.10637877, shape=(), dtype=float32)\n",
      "0\n",
      "Loss:  tf.Tensor(nan, shape=(), dtype=float32)\n",
      "0\n",
      "Loss:  tf.Tensor(0.10645366, shape=(), dtype=float32)\n",
      "0\n",
      "Loss:  tf.Tensor(0.10725694, shape=(), dtype=float32)\n",
      "[<tf.Tensor: shape=(1024,), dtype=float32, numpy=\n",
      "array([0.02740276, 0.13804853, 0.11117673, ..., 0.06125546, 0.0870994 ,\n",
      "       0.05810995], dtype=float32)>, <tf.Tensor: shape=(1024,), dtype=float32, numpy=\n",
      "array([0.01733022, 0.12754469, 0.10577754, ..., 0.05156828, 0.07514353,\n",
      "       0.0578772 ], dtype=float32)>, <tf.Tensor: shape=(1024,), dtype=float32, numpy=\n",
      "array([0.01783858, 0.10208219, 0.11496042, ..., 0.05492929, 0.06300247,\n",
      "       0.06081626], dtype=float32)>, <tf.Tensor: shape=(1024,), dtype=float32, numpy=\n",
      "array([0.01880644, 0.11530199, 0.09523156, ..., 0.05186801, 0.06559247,\n",
      "       0.04282527], dtype=float32)>, <tf.Tensor: shape=(1024,), dtype=float32, numpy=\n",
      "array([0.01186958, 0.10691382, 0.10866486, ..., 0.04737495, 0.0693258 ,\n",
      "       0.10058474], dtype=float32)>, <tf.Tensor: shape=(1024,), dtype=float32, numpy=\n",
      "array([0.02843363, 0.13083836, 0.12347692, ..., 0.0610521 , 0.08672579,\n",
      "       0.03307744], dtype=float32)>, <tf.Tensor: shape=(1024,), dtype=float32, numpy=\n",
      "array([0.01629857, 0.17298225, 0.11046822, ..., 0.05875249, 0.05264596,\n",
      "       0.02987504], dtype=float32)>, <tf.Tensor: shape=(1024,), dtype=float32, numpy=array([nan, nan, nan, ..., nan, nan, nan], dtype=float32)>, <tf.Tensor: shape=(1024,), dtype=float32, numpy=\n",
      "array([0.01665778, 0.15701894, 0.1017153 , ..., 0.05125406, 0.0443598 ,\n",
      "       0.05636369], dtype=float32)>, <tf.Tensor: shape=(1024,), dtype=float32, numpy=\n",
      "array([0.01835261, 0.12411316, 0.0898908 , ..., 0.05408711, 0.05537704,\n",
      "       0.05946218], dtype=float32)>]\n"
     ]
    }
   ],
   "source": [
    "losses = []\n",
    "\n",
    "eval_batches = [m for m in int_data.tensor_val_data.take(1)]\n",
    "\n",
    "for model_name in model_names:\n",
    "\n",
    "    model = keras.saving.load_model('/cmnfs/proj/prosit_astral/saved_models/final_models/%s.keras' % model_name,\n",
    "                                custom_objects={'masked_spectral_distance': masked_spectral_distance, 'masked_pearson_correlation_distance': masked_pearson_correlation_distance}, \n",
    "                                compile=True, safe_mode=True)\n",
    "    \n",
    "    pred = []\n",
    "    true = []\n",
    "    \n",
    "    for j in range(len(eval_batches)):\n",
    "    \n",
    "        predictions = model.predict(eval_batches[j][0], verbose=0)\n",
    "    \n",
    "        pred += np.split(predictions,        predictions.shape[0], axis=0) \n",
    "        true += np.split(eval_batches[j][1], predictions.shape[0], axis=0) \n",
    "    \n",
    "    pred = np.concatenate(pred, axis=0)\n",
    "    true = np.concatenate(true, axis=0)\n",
    "    \n",
    "    print('Loss: ', tf.reduce_mean( masked_spectral_distance(true, pred) ))\n",
    "\n",
    "    losses.append(masked_spectral_distance(true, pred))\n",
    "\n",
    "print(losses)"
   ]
  },
  {
   "cell_type": "code",
   "execution_count": 24,
   "metadata": {},
   "outputs": [
    {
     "ename": "SyntaxError",
     "evalue": "invalid syntax. Perhaps you forgot a comma? (44774526.py, line 6)",
     "output_type": "error",
     "traceback": [
      "\u001b[0;36m  Cell \u001b[0;32mIn[24], line 6\u001b[0;36m\u001b[0m\n\u001b[0;31m    'method': np.repeat(model_labels, 1024)\u001b[0m\n\u001b[0m              ^\u001b[0m\n\u001b[0;31mSyntaxError\u001b[0m\u001b[0;31m:\u001b[0m invalid syntax. Perhaps you forgot a comma?\n"
     ]
    }
   ],
   "source": [
    "import pandas as pd\n",
    "import numpy as np\n",
    "\n",
    "\n",
    "test = pd.DataFrame({\n",
    "    'method': np.repeat(model_labels, 1024)\n",
    "    'loss': tf.concat(losses, axis=0)\n",
    "})"
   ]
  },
  {
   "cell_type": "code",
   "execution_count": 22,
   "metadata": {},
   "outputs": [
    {
     "name": "stdout",
     "output_type": "stream",
     "text": [
      "               method  number  orbital_period   mass  distance  year\n",
      "0     Radial Velocity       1      269.300000   7.10     77.40  2006\n",
      "1     Radial Velocity       1      874.774000   2.21     56.95  2008\n",
      "2     Radial Velocity       1      763.000000   2.60     19.84  2011\n",
      "3     Radial Velocity       1      326.030000  19.40    110.62  2007\n",
      "4     Radial Velocity       1      516.220000  10.50    119.47  2009\n",
      "...               ...     ...             ...    ...       ...   ...\n",
      "1030          Transit       1        3.941507    NaN    172.00  2006\n",
      "1031          Transit       1        2.615864    NaN    148.00  2007\n",
      "1032          Transit       1        3.191524    NaN    174.00  2007\n",
      "1033          Transit       1        4.125083    NaN    293.00  2008\n",
      "1034          Transit       1        4.187757    NaN    260.00  2008\n",
      "\n",
      "[1035 rows x 6 columns]\n"
     ]
    },
    {
     "data": {
      "image/png": "[encoded data removed]",
      "text/plain": [
       "<Figure size 700x600 with 1 Axes>"
      ]
     },
     "metadata": {},
     "output_type": "display_data"
    }
   ],
   "source": [
    "import seaborn as sns\n",
    "import matplotlib.pyplot as plt\n",
    "\n",
    "sns.set_theme(style=\"ticks\")\n",
    "\n",
    "# Initialize the figure with a logarithmic x axis\n",
    "f, ax = plt.subplots(figsize=(7, 6))\n",
    "ax.set_xscale(\"log\")\n",
    "\n",
    "# Load the example planets dataset\n",
    "planets = sns.load_dataset(\"planets\")\n",
    "\n",
    "print(planets)\n",
    "\n",
    "# Plot the orbital period with horizontal boxes\n",
    "# sns.boxplot(\n",
    "#     planets, x=\"distance\", y=\"method\", hue=\"method\",\n",
    "#     whis=[0, 100], width=.6, palette=\"vlag\"\n",
    "# )\n",
    "\n",
    "sns.boxplot(\n",
    "    test, x=\"loss\", y=\"method\",\n",
    "    whis=[0, 100], width=.6, palette=\"vlag\"\n",
    ")\n",
    "\n",
    "\n",
    "# Add in points to show each observation\n",
    "# sns.stripplot(planets, x=\"distance\", y=\"method\", size=4, color=\".3\")\n",
    "\n",
    "# Tweak the visual presentation\n",
    "ax.xaxis.grid(True)\n",
    "ax.set(ylabel=\"\")\n",
    "sns.despine(trim=True, left=True)"
   ]
  }
 ],
 "metadata": {
  "kernelspec": {
   "display_name": "astral",
   "language": "python",
   "name": "python3"
  },
  "language_info": {
   "codemirror_mode": {
    "name": "ipython",
    "version": 3
   },
   "file_extension": ".py",
   "mimetype": "text/x-python",
   "name": "python",
   "nbconvert_exporter": "python",
   "pygments_lexer": "ipython3",
   "version": "3.10.14"
  }
 },
 "nbformat": 4,
 "nbformat_minor": 2
}
