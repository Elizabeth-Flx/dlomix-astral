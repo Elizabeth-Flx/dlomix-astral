{
 "cells": [
  {
   "cell_type": "code",
   "execution_count": 1,
   "metadata": {},
   "outputs": [
    {
     "name": "stderr",
     "output_type": "stream",
     "text": [
      "2024-10-29 19:53:32.440871: I external/local_tsl/tsl/cuda/cudart_stub.cc:31] Could not find cuda drivers on your machine, GPU will not be used.\n",
      "2024-10-29 19:53:32.487010: E external/local_xla/xla/stream_executor/cuda/cuda_dnn.cc:9261] Unable to register cuDNN factory: Attempting to register factory for plugin cuDNN when one has already been registered\n",
      "2024-10-29 19:53:32.487063: E external/local_xla/xla/stream_executor/cuda/cuda_fft.cc:607] Unable to register cuFFT factory: Attempting to register factory for plugin cuFFT when one has already been registered\n",
      "2024-10-29 19:53:32.488723: E external/local_xla/xla/stream_executor/cuda/cuda_blas.cc:1515] Unable to register cuBLAS factory: Attempting to register factory for plugin cuBLAS when one has already been registered\n",
      "2024-10-29 19:53:32.497200: I external/local_tsl/tsl/cuda/cudart_stub.cc:31] Could not find cuda drivers on your machine, GPU will not be used.\n",
      "2024-10-29 19:53:32.500521: I tensorflow/core/platform/cpu_feature_guard.cc:182] This TensorFlow binary is optimized to use available CPU instructions in performance-critical operations.\n",
      "To enable the following instructions: AVX2 AVX512F FMA, in other operations, rebuild TensorFlow with the appropriate compiler flags.\n",
      "2024-10-29 19:53:34.309234: W tensorflow/compiler/tf2tensorrt/utils/py_utils.cc:38] TF-TRT Warning: Could not find TensorRT\n",
      "/nfs/home/students/d.lochert/miniconda3/envs/astral/lib/python3.10/site-packages/tqdm/auto.py:21: TqdmWarning: IProgress not found. Please update jupyter and ipywidgets. See https://ipywidgets.readthedocs.io/en/stable/user_install.html\n",
      "  from .autonotebook import tqdm as notebook_tqdm\n"
     ]
    },
    {
     "name": "stdout",
     "output_type": "stream",
     "text": [
      "\n",
      "Avaliable feature extractors are (use the key of the following dict and pass it to features_to_extract in the Dataset Class):\n",
      "{\n",
      "   \"atom_count\": \"Atom count of PTM.\",\n",
      "   \"delta_mass\": \"Delta mass of PTM.\",\n",
      "   \"mod_gain\": \"Gain of atoms due to PTM.\",\n",
      "   \"mod_loss\": \"Loss of atoms due to PTM.\",\n",
      "   \"red_smiles\": \"Reduced SMILES representation of PTM.\"\n",
      "}.\n",
      "When writing your own feature extractor, you can either\n",
      "    (1) use the FeatureExtractor class or\n",
      "    (2) write a function that can be mapped to the Hugging Face dataset.\n",
      "In both cases, you can access the parsed sequence information from the dataset using the following keys, which all provide python lists:\n",
      "    - _parsed_sequence: parsed sequence\n",
      "    - _n_term_mods: N-terminal modifications\n",
      "    - _c_term_mods: C-terminal modifications\n",
      "\n"
     ]
    }
   ],
   "source": [
    "import keras\n",
    "import numpy as np\n",
    "import matplotlib.pyplot as plt\n",
    "import tensorflow as tf\n",
    "\n",
    "from dlomix.losses import masked_spectral_distance, masked_pearson_correlation_distance\n",
    "from dlomix.data import FragmentIonIntensityDataset\n",
    "\n",
    "import os"
   ]
  },
  {
   "cell_type": "code",
   "execution_count": 5,
   "metadata": {},
   "outputs": [],
   "source": [
    "int_data = FragmentIonIntensityDataset.load_from_disk(\"/cmnfs/proj/prosit_astral/datasets/_dlomix_saved/full_dataset\")"
   ]
  },
  {
   "cell_type": "code",
   "execution_count": 2,
   "metadata": {},
   "outputs": [
    {
     "name": "stdout",
     "output_type": "stream",
     "text": [
      "Model: \"transformer_model\"\n",
      "_________________________________________________________________\n",
      " Layer (type)                Output Shape              Param #   \n",
      "=================================================================\n",
      " dense (Dense)               multiple                  6656      \n",
      "                                                                 \n",
      " dense_1 (Dense)             multiple                  3328      \n",
      "                                                                 \n",
      " dense_2 (Dense)             multiple                  131584    \n",
      "                                                                 \n",
      " trans_block (TransBlock)    multiple                  524545    \n",
      "                                                                 \n",
      " trans_block_1 (TransBlock)  multiple                  524545    \n",
      "                                                                 \n",
      " trans_block_2 (TransBlock)  multiple                  524545    \n",
      "                                                                 \n",
      " trans_block_3 (TransBlock)  multiple                  524545    \n",
      "                                                                 \n",
      " trans_block_4 (TransBlock)  multiple                  524545    \n",
      "                                                                 \n",
      " dense_3 (Dense)             multiple                  131584    \n",
      "                                                                 \n",
      " sequential (Sequential)     (1024, 30, 512)           1024      \n",
      "                                                                 \n",
      " dense_4 (Dense)             multiple                  89262     \n",
      "                                                                 \n",
      "=================================================================\n",
      "Total params: 3242164 (12.37 MB)\n",
      "Trainable params: 2986164 (11.39 MB)\n",
      "Non-trainable params: 256000 (1000.00 KB)\n",
      "_________________________________________________________________\n"
     ]
    }
   ],
   "source": [
    "model_name = 'f_r_single_both_d5_static_0.0005_GTs'     # full\n",
    "# model_name = 'b_r_single_both_d5_static_0.0005_TeG'   % balanced\n",
    "\n",
    "\n",
    "model = keras.saving.load_model('/cmnfs/proj/prosit_astral/saved_models/final_models/%s.keras' % model_name,\n",
    "                                custom_objects={'masked_spectral_distance': masked_spectral_distance, 'masked_pearson_correlation_distance': masked_pearson_correlation_distance}, \n",
    "                                compile=True, safe_mode=True)\n",
    "model.summary()"
   ]
  },
  {
   "cell_type": "code",
   "execution_count": 7,
   "metadata": {},
   "outputs": [
    {
     "data": {
      "text/plain": [
       "12378"
      ]
     },
     "execution_count": 7,
     "metadata": {},
     "output_type": "execute_result"
    }
   ],
   "source": [
    "len(int_data.tensor_train_data)"
   ]
  },
  {
   "cell_type": "code",
   "execution_count": 20,
   "metadata": {},
   "outputs": [
    {
     "name": "stdout",
     "output_type": "stream",
     "text": [
      "data loaded\n",
      "0\n",
      "10\n",
      "20\n",
      "30\n",
      "40\n",
      "Loss:  tf.Tensor(0.102522925, shape=(), dtype=float32)\n",
      "[<tf.Tensor: shape=(51200,), dtype=float32, numpy=\n",
      "array([0.03665632, 0.26280963, 0.05752968, ..., 0.08035967, 0.02115359,\n",
      "       0.2068801 ], dtype=float32)>]\n"
     ]
    }
   ],
   "source": [
    "losses = []\n",
    "\n",
    "eval_batches = [m for m in int_data.tensor_test_data.take(50)]\n",
    "\n",
    "print(\"data loaded\")\n",
    "\n",
    "pred = []\n",
    "true = []\n",
    "\n",
    "for j in range(0, len(eval_batches)):\n",
    "\n",
    "    predictions = model.predict(eval_batches[j][0], verbose=0)\n",
    "\n",
    "    pred += np.split(predictions,        predictions.shape[0], axis=0) \n",
    "    true += np.split(eval_batches[j][1], predictions.shape[0], axis=0) \n",
    "\n",
    "    if j % 10 == 0:\n",
    "        print(j)\n",
    "\n",
    "pred = np.concatenate(pred, axis=0)\n",
    "true = np.concatenate(true, axis=0)\n",
    "\n",
    "print('Loss: ', tf.reduce_mean( masked_spectral_distance(true, pred) ))\n",
    "\n",
    "losses.append(masked_spectral_distance(true, pred))\n",
    "\n",
    "print(losses)"
   ]
  },
  {
   "cell_type": "code",
   "execution_count": 24,
   "metadata": {},
   "outputs": [
    {
     "data": {
      "text/plain": [
       "[<tf.Tensor: shape=(51200,), dtype=float32, numpy=\n",
       " array([0.03665632, 0.26280963, 0.05752968, ..., 0.08035967, 0.02115359,\n",
       "        0.2068801 ], dtype=float32)>]"
      ]
     },
     "execution_count": 24,
     "metadata": {},
     "output_type": "execute_result"
    }
   ],
   "source": [
    "losses\n",
    "\n",
    "# get median of tensor losses\n",
    "np.median(np.array(losses), axis=0)"
   ]
  },
  {
   "cell_type": "code",
   "execution_count": 18,
   "metadata": {},
   "outputs": [
    {
     "data": {
      "text/plain": [
       "{'modified_sequence': <tf.Tensor: shape=(1024, 30), dtype=int64, numpy=\n",
       " array([[ 5, 16, 14, ...,  0,  0,  0],\n",
       "        [ 9, 20, 20, ...,  0,  0,  0],\n",
       "        [16, 18,  4, ...,  0,  0,  0],\n",
       "        ...,\n",
       "        [10, 13, 10, ...,  0,  0,  0],\n",
       "        [19,  1,  4, ...,  0,  0,  0],\n",
       "        [ 4, 17, 13, ...,  0,  0,  0]])>,\n",
       " 'charge_oh': <tf.Tensor: shape=(1024, 6), dtype=float32, numpy=\n",
       " array([[0., 1., 0., 0., 0., 0.],\n",
       "        [0., 0., 0., 1., 0., 0.],\n",
       "        [0., 0., 1., 0., 0., 0.],\n",
       "        ...,\n",
       "        [0., 0., 1., 0., 0., 0.],\n",
       "        [0., 0., 1., 0., 0., 0.],\n",
       "        [0., 0., 1., 0., 0., 0.]], dtype=float32)>,\n",
       " 'collision_energy': <tf.Tensor: shape=(1024,), dtype=float32, numpy=\n",
       " array([0.29031748, 0.33366817, 0.3347874 , ..., 0.31318372, 0.21907659,\n",
       "        0.3157811 ], dtype=float32)>,\n",
       " 'method_nr_oh': <tf.Tensor: shape=(1024, 2), dtype=float32, numpy=\n",
       " array([[0., 1.],\n",
       "        [0., 1.],\n",
       "        [0., 1.],\n",
       "        ...,\n",
       "        [0., 1.],\n",
       "        [0., 1.],\n",
       "        [0., 1.]], dtype=float32)>,\n",
       " 'machine_oh': <tf.Tensor: shape=(1024, 3), dtype=float32, numpy=\n",
       " array([[0., 0., 1.],\n",
       "        [0., 0., 1.],\n",
       "        [0., 0., 1.],\n",
       "        ...,\n",
       "        [0., 0., 1.],\n",
       "        [0., 0., 1.],\n",
       "        [0., 0., 1.]], dtype=float32)>}"
      ]
     },
     "execution_count": 18,
     "metadata": {},
     "output_type": "execute_result"
    }
   ],
   "source": [
    "[i for i in int_data.tensor_test_data.take(1)][0][0]"
   ]
  },
  {
   "cell_type": "code",
   "execution_count": 23,
   "metadata": {},
   "outputs": [],
   "source": [
    "# save tensor to disk as csv\n",
    "np.savetxt('plots/%s_predictions.csv' % model_name, losses, delimiter='\\n')"
   ]
  }
 ],
 "metadata": {
  "kernelspec": {
   "display_name": "astral",
   "language": "python",
   "name": "python3"
  },
  "language_info": {
   "codemirror_mode": {
    "name": "ipython",
    "version": 3
   },
   "file_extension": ".py",
   "mimetype": "text/x-python",
   "name": "python",
   "nbconvert_exporter": "python",
   "pygments_lexer": "ipython3",
   "version": "3.10.14"
  }
 },
 "nbformat": 4,
 "nbformat_minor": 2
}
